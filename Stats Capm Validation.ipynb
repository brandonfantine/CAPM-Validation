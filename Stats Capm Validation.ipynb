{
 "cells": [
  {
   "cell_type": "code",
   "execution_count": null,
   "metadata": {
    "collapsed": false
   },
   "outputs": [],
   "source": [
    "import numpy as np\n",
    "import pandas as pd\n",
    "import matplotlib.pyplot as plt\n",
    "import matplotlib.lines as mlines\n",
    "import matplotlib.transforms as mtransforms\n",
    "%matplotlib inline\n",
    "from pandas_datareader import data as pdr\n",
    "from datetime import datetime,date\n",
    "import yfinance as yfin\n",
    "import requests\n",
    "import scipy.optimize as sco\n",
    "import scipy.interpolate as sci\n",
    "import random"
   ]
  },
  {
   "cell_type": "code",
   "execution_count": null,
   "metadata": {
    "collapsed": false
   },
   "outputs": [],
   "source": [
    "data = pd.read_csv('XXXX.csv', index_col=0, parse_dates =[2]).dropna()"
   ]
  },
  {
   "cell_type": "code",
   "execution_count": null,
   "metadata": {
    "collapsed": false
   },
   "outputs": [],
   "source": [
    "data"
   ]
  },
  {
   "cell_type": "code",
   "execution_count": null,
   "metadata": {
    "collapsed": false
   },
   "outputs": [],
   "source": [
    "def year_trans(data):\n",
    "    data = data.groupby([data.DlyCalDt.dt.year,'Ticker'])['IssuerNm'].count().unstack(level = 'DlyCalDt')\n",
    "    return(data)\n",
    "\n",
    "def mode_trans(data):\n",
    "    for i in data.columns:\n",
    "        data[i] = data[i].where(data[i] == data[i].mode()[0],float('NaN'))\n",
    "    return(data)\n",
    "\n",
    "def weight_gen(port_num):\n",
    "    p_weights = []\n",
    "    weights = np.random.random(size = port_num)\n",
    "    weights = weights / np.sum(weights)\n",
    "    p_weights.append(weights)\n",
    "    return p_weights[0].tolist()\n",
    "\n",
    "def tday_filter (dataog,datafilter,year):\n",
    "    mask1 = dataog['DlyCalDt'].dt.year == year\n",
    "    datanew = dataog[mask1]\n",
    "    mask2 = datanew.index.isin(datafilter[year].dropna().index)\n",
    "    datanew2 = datanew[mask2]\n",
    "    return datanew2\n",
    "\n",
    "def random_select(universe,portsize):\n",
    "    random_port = random.sample(list(universe.index.unique()),portsize)\n",
    "    return random_port\n",
    "\n",
    "#returns portfolio yearly return\n",
    "def return_gen(data,assets,weights):\n",
    "    m = data.index.isin(assets)\n",
    "    data = data[m]\n",
    "    ret = 0\n",
    "    for i,j in zip(data.index.unique(),weights):\n",
    "        ret = ret + data.loc[i,'DlyRet'].sum()*j\n",
    "\n",
    "    return ret\n",
    "\n",
    "#returns individual daily returns for items in portfolio\n",
    "def return_gen2(data,assets,weights):\n",
    "    empty = pd.DataFrame()\n",
    "    m = data.index.isin(assets)\n",
    "    data = data[m]\n",
    "    ret = 0\n",
    "    data2 = data.set_index(data['DlyCalDt'].dt.date,append = True)\n",
    "    for i,j in zip(data2.index.get_level_values('Ticker').unique(),weights):\n",
    "        test = data2.loc[i,'DlyRet'] * j\n",
    "        empty[i]=test\n",
    "    return empty\n",
    "\n",
    "def daily_return(data):\n",
    "    row_sum = data.sum(axis=1)\n",
    "    return row_sum\n",
    "\n",
    "def vol(daily_returns,annual_return):\n",
    "    sd = ((((daily_returns - (annual_return/len(daily_returns)))**2).sum())*(len(daily_returns)/(len(daily_returns)-1)))**0.5\n",
    "    return sd"
   ]
  },
  {
   "cell_type": "code",
   "execution_count": null,
   "metadata": {
    "collapsed": false
   },
   "outputs": [],
   "source": [
    "data1=year_trans(data)\n",
    "data1t = mode_trans(data1)\n",
    "data1"
   ]
  },
  {
   "cell_type": "code",
   "execution_count": null,
   "metadata": {
    "collapsed": false
   },
   "outputs": [],
   "source": [
    "N = 100\n",
    "yr = XXXX\n",
    "x = tday_filter(data,data1t,yr)\n",
    "weight = weight_gen(N)\n",
    "z = random_select(x,N)\n",
    "ret = return_gen(x,z,weight)\n",
    "ret"
   ]
  },
  {
   "cell_type": "code",
   "execution_count": null,
   "metadata": {
    "collapsed": false
   },
   "outputs": [],
   "source": [
    "ret2 = return_gen2(x,z,weight)\n",
    "ret2"
   ]
  },
  {
   "cell_type": "code",
   "execution_count": null,
   "metadata": {
    "collapsed": false
   },
   "outputs": [],
   "source": [
    "dret = daily_return(ret2)\n",
    "dret"
   ]
  },
  {
   "cell_type": "code",
   "execution_count": null,
   "metadata": {
    "collapsed": false
   },
   "outputs": [],
   "source": [
    "sd = vol(dret,ret)\n",
    "sd"
   ]
  },
  {
   "cell_type": "code",
   "execution_count": null,
   "metadata": {},
   "outputs": [],
   "source": [
    "#calculate fama french risk free rate\n",
    "def fama_french(portfolio):\n",
    "    high_low = sorted(portfolio)\n",
    "    num_trades = len(portfolio)\n",
    "    r_f = (((high_low[0] + high_low[num_trades - 2])/2)*num_trades)\n",
    "    return r_f\n",
    "\n",
    "print(fama_french(dret))\n",
    "\n",
    "#cml line assuming volatility is x axis and return is y\n",
    "def cml(annual_return, interest, vol):\n",
    "    cml_int = interest\n",
    "    cml_slope = ((annual_return + interest)/vol)\n",
    "    return cml_int, cml_slope"
   ]
  },
  {
   "cell_type": "code",
   "execution_count": null,
   "metadata": {},
   "outputs": [],
   "source": [
    "#generate the random distribution\n",
    "x = []\n",
    "y = []\n",
    "ret2_df = pd.DataFrame(ret2)\n",
    "for column in ret2_df:\n",
    "    stock = ret2_df[column]\n",
    "    y.append(sum(stock)*(N/10))\n",
    "    x.append(vol(stock, ret)*(N/10))\n"
   ]
  },
  {
   "cell_type": "code",
   "execution_count": null,
   "metadata": {},
   "outputs": [],
   "source": [
    "#create the plot\n",
    "cml_line = cml(ret, fama_french(dret), sd)\n",
    "m = cml_line[1]\n",
    "b = cml_line[0]\n",
    "fig, ax = plt.subplots()\n",
    "ax.scatter(x, y, c='blue')\n",
    "ax.axline((0, b), slope=-m, color='black', label='cml')\n",
    "ax.legend()\n",
    "plt.suptitle(\"Random Portfolios Year XXXX\")\n",
    "plt.title(\"N = 100\")\n",
    "plt.show()"
   ]
  }
 ],
 "metadata": {
  "kernelspec": {
   "display_name": "Python 3",
   "language": "python",
   "name": "python3"
  },
  "language_info": {
   "codemirror_mode": {
    "name": "ipython",
    "version": 3
   },
   "file_extension": ".py",
   "mimetype": "text/x-python",
   "name": "python",
   "nbconvert_exporter": "python",
   "pygments_lexer": "ipython3",
   "version": "3.9.13"
  }
 },
 "nbformat": 4,
 "nbformat_minor": 0
}
